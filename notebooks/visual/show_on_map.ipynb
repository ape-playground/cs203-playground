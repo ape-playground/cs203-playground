{
 "cells": [
  {
   "cell_type": "code",
   "execution_count": 7,
   "id": "182f4ae3576b7d29",
   "metadata": {
    "collapsed": false,
    "ExecuteTime": {
     "end_time": "2023-10-02T13:01:04.909195Z",
     "start_time": "2023-10-02T13:01:04.905934Z"
    }
   },
   "outputs": [],
   "source": [
    "import pandas as pd\n",
    "import folium\n",
    "\n",
    "from directories import Path\n",
    "from src import get_data"
   ]
  },
  {
   "cell_type": "code",
   "execution_count": 28,
   "outputs": [],
   "source": [
    "file = Path.DATA.value + \"/validated.csv\"\n",
    "df = get_data(file)"
   ],
   "metadata": {
    "collapsed": false,
    "ExecuteTime": {
     "end_time": "2023-10-02T13:08:05.288029Z",
     "start_time": "2023-10-02T13:08:02.915829Z"
    }
   },
   "id": "89c32b02437a460c"
  },
  {
   "cell_type": "code",
   "execution_count": 29,
   "id": "a5b4b93f74988e48",
   "metadata": {
    "collapsed": false,
    "ExecuteTime": {
     "end_time": "2023-10-02T13:08:05.308477Z",
     "start_time": "2023-10-02T13:08:05.295422Z"
    }
   },
   "outputs": [
    {
     "data": {
      "text/plain": "  Province/State  ...                  location\n0        Florida  ...   28.70181754,-82.0794267\n1        Georgia  ...  32.45802497,-83.66879087\n2        Georgia  ...  34.46589159,-84.46406611\n3        Georgia  ...  32.96711864,-82.79357039\n4          Idaho  ...  44.89333571,-116.4545247\n\n[5 rows x 6 columns]",
      "text/html": "<div>\n<style scoped>\n    .dataframe tbody tr th:only-of-type {\n        vertical-align: middle;\n    }\n\n    .dataframe tbody tr th {\n        vertical-align: top;\n    }\n\n    .dataframe thead th {\n        text-align: right;\n    }\n</style>\n<table border=\"1\" class=\"dataframe\">\n  <thead>\n    <tr style=\"text-align: right;\">\n      <th></th>\n      <th>Province/State</th>\n      <th>Admin 2 Level (City/County/Borough/Region)</th>\n      <th>Date</th>\n      <th>Total Death</th>\n      <th>Total Confirmed</th>\n      <th>location</th>\n    </tr>\n  </thead>\n  <tbody>\n    <tr>\n      <th>0</th>\n      <td>Florida</td>\n      <td>Sumter</td>\n      <td>2020-01-31</td>\n      <td>0</td>\n      <td>0</td>\n      <td>28.70181754,-82.0794267</td>\n    </tr>\n    <tr>\n      <th>1</th>\n      <td>Georgia</td>\n      <td>Houston</td>\n      <td>2020-01-31</td>\n      <td>0</td>\n      <td>0</td>\n      <td>32.45802497,-83.66879087</td>\n    </tr>\n    <tr>\n      <th>2</th>\n      <td>Georgia</td>\n      <td>Pickens</td>\n      <td>2020-01-31</td>\n      <td>0</td>\n      <td>0</td>\n      <td>34.46589159,-84.46406611</td>\n    </tr>\n    <tr>\n      <th>3</th>\n      <td>Georgia</td>\n      <td>Washington</td>\n      <td>2020-01-31</td>\n      <td>0</td>\n      <td>0</td>\n      <td>32.96711864,-82.79357039</td>\n    </tr>\n    <tr>\n      <th>4</th>\n      <td>Idaho</td>\n      <td>Adams</td>\n      <td>2020-01-31</td>\n      <td>0</td>\n      <td>0</td>\n      <td>44.89333571,-116.4545247</td>\n    </tr>\n  </tbody>\n</table>\n</div>"
     },
     "execution_count": 29,
     "metadata": {},
     "output_type": "execute_result"
    }
   ],
   "source": [
    "df.head()"
   ]
  },
  {
   "cell_type": "code",
   "execution_count": 30,
   "id": "6a8a9d26df479a1d",
   "metadata": {
    "collapsed": false,
    "ExecuteTime": {
     "end_time": "2023-10-02T13:08:06.122700Z",
     "start_time": "2023-10-02T13:08:06.115525Z"
    }
   },
   "outputs": [
    {
     "name": "stdout",
     "output_type": "stream",
     "text": [
      "<class 'pandas.core.frame.DataFrame'>\n",
      "RangeIndex: 3099180 entries, 0 to 3099179\n",
      "Data columns (total 6 columns):\n",
      " #   Column                                      Dtype \n",
      "---  ------                                      ----- \n",
      " 0   Province/State                              object\n",
      " 1   Admin 2 Level (City/County/Borough/Region)  object\n",
      " 2   Date                                        object\n",
      " 3   Total Death                                 int64 \n",
      " 4   Total Confirmed                             int64 \n",
      " 5   location                                    object\n",
      "dtypes: int64(2), object(4)\n",
      "memory usage: 141.9+ MB\n"
     ]
    }
   ],
   "source": [
    "df.info()"
   ]
  },
  {
   "cell_type": "markdown",
   "id": "28386ef494057f60",
   "metadata": {
    "collapsed": false
   },
   "source": [
    "# Data Cleaning"
   ]
  },
  {
   "cell_type": "code",
   "execution_count": 31,
   "id": "e8b6669392351a31",
   "metadata": {
    "collapsed": false,
    "ExecuteTime": {
     "end_time": "2023-10-02T13:08:10.968865Z",
     "start_time": "2023-10-02T13:08:07.972042Z"
    }
   },
   "outputs": [],
   "source": [
    "# show on a map only if the location is not null\n",
    "df = df[df[\"location\"].notnull()]\n",
    "\n",
    "# convert location to lat and lon\n",
    "df[\"lat\"] = df[\"location\"].apply(lambda x: float(x.split(\",\")[0]))\n",
    "df[\"lon\"] = df[\"location\"].apply(lambda x: float(x.split(\",\")[1]))\n",
    "\n",
    "# replace location with lat and lon\n",
    "df.drop(\"location\", axis=1, inplace=True)\n",
    "\n",
    "# convert date to datetime\n",
    "df[\"Date\"] = pd.to_datetime(df[\"Date\"])\n",
    "\n",
    "df.rename(columns={\"Province/State\": \"State\"}, inplace=True)"
   ]
  },
  {
   "cell_type": "code",
   "execution_count": 32,
   "id": "99cadeb2cb6c1f76",
   "metadata": {
    "collapsed": false,
    "ExecuteTime": {
     "end_time": "2023-10-02T13:08:12.330381Z",
     "start_time": "2023-10-02T13:08:12.308536Z"
    }
   },
   "outputs": [
    {
     "data": {
      "text/plain": "     State Admin 2 Level (City/County/Borough/Region)  ...        lat         lon\n0  Florida                                     Sumter  ...  28.701818  -82.079427\n1  Georgia                                    Houston  ...  32.458025  -83.668791\n2  Georgia                                    Pickens  ...  34.465892  -84.464066\n3  Georgia                                 Washington  ...  32.967119  -82.793570\n4    Idaho                                      Adams  ...  44.893336 -116.454525\n\n[5 rows x 7 columns]",
      "text/html": "<div>\n<style scoped>\n    .dataframe tbody tr th:only-of-type {\n        vertical-align: middle;\n    }\n\n    .dataframe tbody tr th {\n        vertical-align: top;\n    }\n\n    .dataframe thead th {\n        text-align: right;\n    }\n</style>\n<table border=\"1\" class=\"dataframe\">\n  <thead>\n    <tr style=\"text-align: right;\">\n      <th></th>\n      <th>State</th>\n      <th>Admin 2 Level (City/County/Borough/Region)</th>\n      <th>Date</th>\n      <th>Total Death</th>\n      <th>Total Confirmed</th>\n      <th>lat</th>\n      <th>lon</th>\n    </tr>\n  </thead>\n  <tbody>\n    <tr>\n      <th>0</th>\n      <td>Florida</td>\n      <td>Sumter</td>\n      <td>2020-01-31</td>\n      <td>0</td>\n      <td>0</td>\n      <td>28.701818</td>\n      <td>-82.079427</td>\n    </tr>\n    <tr>\n      <th>1</th>\n      <td>Georgia</td>\n      <td>Houston</td>\n      <td>2020-01-31</td>\n      <td>0</td>\n      <td>0</td>\n      <td>32.458025</td>\n      <td>-83.668791</td>\n    </tr>\n    <tr>\n      <th>2</th>\n      <td>Georgia</td>\n      <td>Pickens</td>\n      <td>2020-01-31</td>\n      <td>0</td>\n      <td>0</td>\n      <td>34.465892</td>\n      <td>-84.464066</td>\n    </tr>\n    <tr>\n      <th>3</th>\n      <td>Georgia</td>\n      <td>Washington</td>\n      <td>2020-01-31</td>\n      <td>0</td>\n      <td>0</td>\n      <td>32.967119</td>\n      <td>-82.793570</td>\n    </tr>\n    <tr>\n      <th>4</th>\n      <td>Idaho</td>\n      <td>Adams</td>\n      <td>2020-01-31</td>\n      <td>0</td>\n      <td>0</td>\n      <td>44.893336</td>\n      <td>-116.454525</td>\n    </tr>\n  </tbody>\n</table>\n</div>"
     },
     "execution_count": 32,
     "metadata": {},
     "output_type": "execute_result"
    }
   ],
   "source": [
    "df.head()"
   ]
  },
  {
   "cell_type": "code",
   "execution_count": 33,
   "id": "2137ee1a29218e09",
   "metadata": {
    "collapsed": false,
    "ExecuteTime": {
     "end_time": "2023-10-02T13:09:26.300927Z",
     "start_time": "2023-10-02T13:08:14.963047Z"
    }
   },
   "outputs": [
    {
     "data": {
      "text/plain": "<folium.plugins.heat_map.HeatMap at 0x159510350>"
     },
     "execution_count": 33,
     "metadata": {},
     "output_type": "execute_result"
    }
   ],
   "source": [
    "# Create a folium map centered at an initial location\n",
    "m = folium.Map(location=[32.45802497, -83.66879087], zoom_start=6)\n",
    "\n",
    "heatmap_data = [[row[\"lat\"], row[\"lon\"]] for index, row in df.iterrows()]\n",
    "\n",
    "# Plot it on the map\n",
    "from folium.plugins import HeatMap\n",
    "\n",
    "HeatMap(heatmap_data).add_to(m)"
   ]
  },
  {
   "cell_type": "code",
   "execution_count": 34,
   "id": "4b928d17d9092220",
   "metadata": {
    "collapsed": false,
    "ExecuteTime": {
     "end_time": "2023-10-02T13:10:20.545088Z",
     "start_time": "2023-10-02T13:10:20.541200Z"
    }
   },
   "outputs": [],
   "source": [
    "from src.plotter import display_heatmap"
   ]
  },
  {
   "cell_type": "code",
   "execution_count": 35,
   "id": "f64401a878453236",
   "metadata": {
    "collapsed": false,
    "ExecuteTime": {
     "end_time": "2023-10-02T13:10:23.784425Z",
     "start_time": "2023-10-02T13:10:23.773029Z"
    }
   },
   "outputs": [
    {
     "data": {
      "text/plain": "     State Admin 2 Level (City/County/Borough/Region)  ...        lat         lon\n0  Florida                                     Sumter  ...  28.701818  -82.079427\n1  Georgia                                    Houston  ...  32.458025  -83.668791\n2  Georgia                                    Pickens  ...  34.465892  -84.464066\n3  Georgia                                 Washington  ...  32.967119  -82.793570\n4    Idaho                                      Adams  ...  44.893336 -116.454525\n\n[5 rows x 7 columns]",
      "text/html": "<div>\n<style scoped>\n    .dataframe tbody tr th:only-of-type {\n        vertical-align: middle;\n    }\n\n    .dataframe tbody tr th {\n        vertical-align: top;\n    }\n\n    .dataframe thead th {\n        text-align: right;\n    }\n</style>\n<table border=\"1\" class=\"dataframe\">\n  <thead>\n    <tr style=\"text-align: right;\">\n      <th></th>\n      <th>State</th>\n      <th>Admin 2 Level (City/County/Borough/Region)</th>\n      <th>Date</th>\n      <th>Total Death</th>\n      <th>Total Confirmed</th>\n      <th>lat</th>\n      <th>lon</th>\n    </tr>\n  </thead>\n  <tbody>\n    <tr>\n      <th>0</th>\n      <td>Florida</td>\n      <td>Sumter</td>\n      <td>2020-01-31</td>\n      <td>0</td>\n      <td>0</td>\n      <td>28.701818</td>\n      <td>-82.079427</td>\n    </tr>\n    <tr>\n      <th>1</th>\n      <td>Georgia</td>\n      <td>Houston</td>\n      <td>2020-01-31</td>\n      <td>0</td>\n      <td>0</td>\n      <td>32.458025</td>\n      <td>-83.668791</td>\n    </tr>\n    <tr>\n      <th>2</th>\n      <td>Georgia</td>\n      <td>Pickens</td>\n      <td>2020-01-31</td>\n      <td>0</td>\n      <td>0</td>\n      <td>34.465892</td>\n      <td>-84.464066</td>\n    </tr>\n    <tr>\n      <th>3</th>\n      <td>Georgia</td>\n      <td>Washington</td>\n      <td>2020-01-31</td>\n      <td>0</td>\n      <td>0</td>\n      <td>32.967119</td>\n      <td>-82.793570</td>\n    </tr>\n    <tr>\n      <th>4</th>\n      <td>Idaho</td>\n      <td>Adams</td>\n      <td>2020-01-31</td>\n      <td>0</td>\n      <td>0</td>\n      <td>44.893336</td>\n      <td>-116.454525</td>\n    </tr>\n  </tbody>\n</table>\n</div>"
     },
     "execution_count": 35,
     "metadata": {},
     "output_type": "execute_result"
    }
   ],
   "source": [
    "state = \"Florida\"\n",
    "df.head()"
   ]
  },
  {
   "cell_type": "code",
   "execution_count": 36,
   "outputs": [
    {
     "data": {
      "text/plain": "<folium.folium.Map at 0x2d309a510>",
      "text/html": "<div style=\"width:100%;\"><div style=\"position:relative;width:100%;height:0;padding-bottom:60%;\"><span style=\"color:#565656\">Make this Notebook Trusted to load map: File -> Trust Notebook</span><iframe srcdoc=\"&lt;!DOCTYPE html&gt;\n&lt;html&gt;\n&lt;head&gt;\n    \n    &lt;meta http-equiv=&quot;content-type&quot; content=&quot;text/html; charset=UTF-8&quot; /&gt;\n    \n        &lt;script&gt;\n            L_NO_TOUCH = false;\n            L_DISABLE_3D = false;\n        &lt;/script&gt;\n    \n    &lt;style&gt;html, body {width: 100%;height: 100%;margin: 0;padding: 0;}&lt;/style&gt;\n    &lt;style&gt;#map {position:absolute;top:0;bottom:0;right:0;left:0;}&lt;/style&gt;\n    &lt;script src=&quot;https://cdn.jsdelivr.net/npm/leaflet@1.9.3/dist/leaflet.js&quot;&gt;&lt;/script&gt;\n    &lt;script src=&quot;https://code.jquery.com/jquery-1.12.4.min.js&quot;&gt;&lt;/script&gt;\n    &lt;script src=&quot;https://cdn.jsdelivr.net/npm/bootstrap@5.2.2/dist/js/bootstrap.bundle.min.js&quot;&gt;&lt;/script&gt;\n    &lt;script src=&quot;https://cdnjs.cloudflare.com/ajax/libs/Leaflet.awesome-markers/2.0.2/leaflet.awesome-markers.js&quot;&gt;&lt;/script&gt;\n    &lt;link rel=&quot;stylesheet&quot; href=&quot;https://cdn.jsdelivr.net/npm/leaflet@1.9.3/dist/leaflet.css&quot;/&gt;\n    &lt;link rel=&quot;stylesheet&quot; href=&quot;https://cdn.jsdelivr.net/npm/bootstrap@5.2.2/dist/css/bootstrap.min.css&quot;/&gt;\n    &lt;link rel=&quot;stylesheet&quot; href=&quot;https://netdna.bootstrapcdn.com/bootstrap/3.0.0/css/bootstrap.min.css&quot;/&gt;\n    &lt;link rel=&quot;stylesheet&quot; href=&quot;https://cdn.jsdelivr.net/npm/@fortawesome/fontawesome-free@6.2.0/css/all.min.css&quot;/&gt;\n    &lt;link rel=&quot;stylesheet&quot; href=&quot;https://cdnjs.cloudflare.com/ajax/libs/Leaflet.awesome-markers/2.0.2/leaflet.awesome-markers.css&quot;/&gt;\n    &lt;link rel=&quot;stylesheet&quot; href=&quot;https://cdn.jsdelivr.net/gh/python-visualization/folium/folium/templates/leaflet.awesome.rotate.min.css&quot;/&gt;\n    \n            &lt;meta name=&quot;viewport&quot; content=&quot;width=device-width,\n                initial-scale=1.0, maximum-scale=1.0, user-scalable=no&quot; /&gt;\n            &lt;style&gt;\n                #map_4c16969826da8aa65a3db2470515509f {\n                    position: relative;\n                    width: 100.0%;\n                    height: 100.0%;\n                    left: 0.0%;\n                    top: 0.0%;\n                }\n                .leaflet-container { font-size: 1rem; }\n            &lt;/style&gt;\n        \n&lt;/head&gt;\n&lt;body&gt;\n    \n    \n            &lt;div class=&quot;folium-map&quot; id=&quot;map_4c16969826da8aa65a3db2470515509f&quot; &gt;&lt;/div&gt;\n        \n&lt;/body&gt;\n&lt;script&gt;\n    \n    \n            var map_4c16969826da8aa65a3db2470515509f = L.map(\n                &quot;map_4c16969826da8aa65a3db2470515509f&quot;,\n                {\n                    center: [28.70181754, -82.0794267],\n                    crs: L.CRS.EPSG3857,\n                    zoom: 6,\n                    zoomControl: true,\n                    preferCanvas: false,\n                }\n            );\n\n            \n\n        \n    \n            var tile_layer_2876e6bc5cd0152d8c53cdae9bf52fa6 = L.tileLayer(\n                &quot;https://{s}.tile.openstreetmap.org/{z}/{x}/{y}.png&quot;,\n                {&quot;attribution&quot;: &quot;Data by \\u0026copy; \\u003ca target=\\&quot;_blank\\&quot; href=\\&quot;http://openstreetmap.org\\&quot;\\u003eOpenStreetMap\\u003c/a\\u003e, under \\u003ca target=\\&quot;_blank\\&quot; href=\\&quot;http://www.openstreetmap.org/copyright\\&quot;\\u003eODbL\\u003c/a\\u003e.&quot;, &quot;detectRetina&quot;: false, &quot;maxNativeZoom&quot;: 18, &quot;maxZoom&quot;: 18, &quot;minZoom&quot;: 0, &quot;noWrap&quot;: false, &quot;opacity&quot;: 1, &quot;subdomains&quot;: &quot;abc&quot;, &quot;tms&quot;: false}\n            ).addTo(map_4c16969826da8aa65a3db2470515509f);\n        \n    \n            var circle_marker_8d3c3a8279754d5e613d5295f7510015 = L.circleMarker(\n                [28.70181754, -82.0794267],\n                {&quot;bubblingMouseEvents&quot;: true, &quot;color&quot;: &quot;red&quot;, &quot;dashArray&quot;: null, &quot;dashOffset&quot;: null, &quot;fill&quot;: true, &quot;fillColor&quot;: &quot;red&quot;, &quot;fillOpacity&quot;: 0.6, &quot;fillRule&quot;: &quot;evenodd&quot;, &quot;lineCap&quot;: &quot;round&quot;, &quot;lineJoin&quot;: &quot;round&quot;, &quot;opacity&quot;: 1.0, &quot;stroke&quot;: true, &quot;weight&quot;: 3}\n            ).addTo(map_4c16969826da8aa65a3db2470515509f);\n        \n    \n        var popup_c5841615f9999e225c549481a360d99d = L.popup({&quot;maxWidth&quot;: &quot;100%&quot;});\n\n        \n            \n                var html_ca0c946fdbc9b568bc8b96b25ab8165d = $(`&lt;div id=&quot;html_ca0c946fdbc9b568bc8b96b25ab8165d&quot; style=&quot;width: 100.0%; height: 100.0%;&quot;&gt;State: Florida&lt;br&gt;Death Ratio: 0.00&lt;/div&gt;`)[0];\n                popup_c5841615f9999e225c549481a360d99d.setContent(html_ca0c946fdbc9b568bc8b96b25ab8165d);\n            \n        \n\n        circle_marker_8d3c3a8279754d5e613d5295f7510015.bindPopup(popup_c5841615f9999e225c549481a360d99d)\n        ;\n\n        \n    \n&lt;/script&gt;\n&lt;/html&gt;\" style=\"position:absolute;width:100%;height:100%;left:0;top:0;border:none !important;\" allowfullscreen webkitallowfullscreen mozallowfullscreen></iframe></div></div>"
     },
     "execution_count": 36,
     "metadata": {},
     "output_type": "execute_result"
    }
   ],
   "source": [
    "display_heatmap(df, state)"
   ],
   "metadata": {
    "collapsed": false,
    "ExecuteTime": {
     "end_time": "2023-10-02T13:10:25.883765Z",
     "start_time": "2023-10-02T13:10:25.578620Z"
    }
   },
   "id": "f5fa4c290bf22eec"
  },
  {
   "cell_type": "code",
   "execution_count": null,
   "id": "d068260fed462561",
   "metadata": {
    "ExecuteTime": {
     "end_time": "2023-09-22T11:25:52.433518Z",
     "start_time": "2023-09-22T11:25:52.428791Z"
    },
    "collapsed": false
   },
   "outputs": [],
   "source": []
  }
 ],
 "metadata": {
  "kernelspec": {
   "display_name": "Python 3",
   "language": "python",
   "name": "python3"
  },
  "language_info": {
   "codemirror_mode": {
    "name": "ipython",
    "version": 3
   },
   "file_extension": ".py",
   "mimetype": "text/x-python",
   "name": "python",
   "nbconvert_exporter": "python",
   "pygments_lexer": "ipython3",
   "version": "3.8.10"
  }
 },
 "nbformat": 4,
 "nbformat_minor": 5
}
