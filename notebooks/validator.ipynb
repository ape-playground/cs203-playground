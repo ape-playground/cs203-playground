{
 "cells": [
  {
   "cell_type": "code",
   "execution_count": null,
   "id": "initial_id",
   "metadata": {
    "collapsed": true
   },
   "outputs": [],
   "source": []
  },
  {
   "cell_type": "code",
   "execution_count": null,
   "outputs": [],
   "source": [
    "import pandas as pd\n",
    "import logging\n",
    "\n",
    "# log debug if progress is started\n",
    "logging.debug(\"Data is validating...\")\n",
    "\n",
    "log = \"\"\"\n",
    "This action is used to validate and clean the data by remove the missing value and duplicate value.\n",
    "Keeps the last duplicate value and remove all the missing value.\n",
    "(Not recommended if you want to analyze data by date and location)\n",
    "\n",
    "Removed:\n",
    "- Remove the missing value\n",
    "- Remove the duplicate value (Total Death, Total Confirmed)\n",
    "- Remove the data that City/County/Borough/Region startswith 'out of' case-insensitive\n",
    "\n",
    "Change:\n",
    "- Change the header name (Admin 2 Level (City/County/Borough/Region) -> City/County/Borough/Region)\n",
    "- Change the header name (Province/State -> State)\n",
    "- Sort the data by State, Total Death, Total Confirmed\n",
    "\n",
    "Added:\n",
    "- Add Death Rate column\n",
    "\"\"\"\n",
    "\n",
    "admin2 = \"City/County/Borough/Region\"\n",
    "header = [\"State\", \"Total Death\", \"Total Confirmed\", \"Death Rate\"]\n",
    "\n",
    "data = \"\"\n",
    "\n",
    "if isinstance(data, str):\n",
    "    df = pd.read_csv(data)\n",
    "elif isinstance(data, pd.DataFrame):\n",
    "    df = data.copy()\n",
    "else:\n",
    "    raise TypeError(\"file must be a string or a pandas DataFrame\")\n",
    "\n",
    "df.dropna(inplace=True)\n",
    "\n",
    "# drop location column because it is not needed for the model\n",
    "df.drop([\"location\"], axis=1, inplace=True)\n",
    "\n",
    "# change header name\n",
    "df.rename(columns={\"Admin 2 Level (City/County/Borough/Region)\": admin2}, inplace=True)\n",
    "\n",
    "df.rename(columns={\"Province/State\": \"State\"}, inplace=True)\n",
    "\n",
    "# convert datatype\n",
    "df[\"Date\"] = pd.to_datetime(df[\"Date\"])\n",
    "\n",
    "df.sort_values(by=header, inplace=True)\n",
    "\n",
    "df.drop_duplicates(subset=[\"State\", admin2], keep=\"last\", inplace=True)\n",
    "\n",
    "# Drop the data that City/County/Borough/Region startswith 'out of' case-insensitive\n",
    "df = df[~df[admin2].str.contains(\"out of\", case=False)]\n",
    "\n",
    "# log debug if progress is run successfully\n",
    "logging.debug(\"Data is validated successfully\")"
   ],
   "metadata": {
    "collapsed": false
   },
   "id": "f0d42e3b415fdc23"
  }
 ],
 "metadata": {
  "kernelspec": {
   "display_name": "Python 3",
   "language": "python",
   "name": "python3"
  },
  "language_info": {
   "codemirror_mode": {
    "name": "ipython",
    "version": 2
   },
   "file_extension": ".py",
   "mimetype": "text/x-python",
   "name": "python",
   "nbconvert_exporter": "python",
   "pygments_lexer": "ipython2",
   "version": "2.7.6"
  }
 },
 "nbformat": 4,
 "nbformat_minor": 5
}
