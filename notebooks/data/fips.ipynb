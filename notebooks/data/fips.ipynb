{
 "cells": [
  {
   "cell_type": "code",
   "execution_count": 1,
   "outputs": [],
   "source": [
    "from src import create_fips_csv\n",
    "\n",
    "df = create_fips_csv(return_df=True)"
   ],
   "metadata": {
    "collapsed": false,
    "ExecuteTime": {
     "end_time": "2023-10-03T19:48:07.190061Z",
     "start_time": "2023-10-03T19:48:03.072215Z"
    }
   },
   "id": "843f806706b73ae"
  },
  {
   "cell_type": "code",
   "execution_count": 2,
   "outputs": [
    {
     "ename": "FileNotFoundError",
     "evalue": "[Errno 2] No such file or directory: '/Users/iccie/.keys/google_map_api.key'",
     "output_type": "error",
     "traceback": [
      "\u001B[0;31m---------------------------------------------------------------------------\u001B[0m",
      "\u001B[0;31mFileNotFoundError\u001B[0m                         Traceback (most recent call last)",
      "Cell \u001B[0;32mIn[2], line 4\u001B[0m\n\u001B[1;32m      1\u001B[0m \u001B[38;5;28;01mfrom\u001B[39;00m \u001B[38;5;21;01msrc\u001B[39;00m\u001B[38;5;21;01m.\u001B[39;00m\u001B[38;5;21;01mapi\u001B[39;00m \u001B[38;5;28;01mimport\u001B[39;00m geo_admin_lookup\n\u001B[1;32m      3\u001B[0m pos \u001B[38;5;241m=\u001B[39m (\u001B[38;5;241m15.0979\u001B[39m, \u001B[38;5;241m145.6739\u001B[39m)\n\u001B[0;32m----> 4\u001B[0m \u001B[43mgeo_admin_lookup\u001B[49m\u001B[38;5;241;43m.\u001B[39;49m\u001B[43mget_response\u001B[49m\u001B[43m(\u001B[49m\u001B[38;5;241;43m*\u001B[39;49m\u001B[43mpos\u001B[49m\u001B[43m)\u001B[49m\n",
      "File \u001B[0;32m~/repo/cs203-data/src/api/geo_admin_lookup.py:31\u001B[0m, in \u001B[0;36mget_response\u001B[0;34m(lat, lon)\u001B[0m\n\u001B[1;32m     30\u001B[0m \u001B[38;5;28;01mdef\u001B[39;00m \u001B[38;5;21mget_response\u001B[39m(lat, lon):\n\u001B[0;32m---> 31\u001B[0m     url \u001B[38;5;241m=\u001B[39m \u001B[38;5;124mf\u001B[39m\u001B[38;5;124m\"\u001B[39m\u001B[38;5;124mhttps://maps.googleapis.com/maps/api/geocode/json?latlng=\u001B[39m\u001B[38;5;132;01m{\u001B[39;00mlat\u001B[38;5;132;01m}\u001B[39;00m\u001B[38;5;124m,\u001B[39m\u001B[38;5;132;01m{\u001B[39;00mlon\u001B[38;5;132;01m}\u001B[39;00m\u001B[38;5;124m&key=\u001B[39m\u001B[38;5;132;01m{\u001B[39;00m\u001B[43mgoogle_key\u001B[49m\u001B[43m(\u001B[49m\u001B[43m)\u001B[49m\u001B[38;5;132;01m}\u001B[39;00m\u001B[38;5;124m\"\u001B[39m\n\u001B[1;32m     33\u001B[0m     \u001B[38;5;28;01mtry\u001B[39;00m:\n\u001B[1;32m     34\u001B[0m         \u001B[38;5;28;01mwith\u001B[39;00m request\u001B[38;5;241m.\u001B[39murlopen(url, timeout\u001B[38;5;241m=\u001B[39m\u001B[38;5;241m10\u001B[39m) \u001B[38;5;28;01mas\u001B[39;00m response:\n",
      "File \u001B[0;32m~/repo/cs203-data/src/api/geo_admin_lookup.py:13\u001B[0m, in \u001B[0;36mgoogle_key\u001B[0;34m()\u001B[0m\n\u001B[1;32m     11\u001B[0m home \u001B[38;5;241m=\u001B[39m os\u001B[38;5;241m.\u001B[39mpath\u001B[38;5;241m.\u001B[39mexpanduser(\u001B[38;5;124m\"\u001B[39m\u001B[38;5;124m~\u001B[39m\u001B[38;5;124m\"\u001B[39m)\n\u001B[1;32m     12\u001B[0m key_path \u001B[38;5;241m=\u001B[39m os\u001B[38;5;241m.\u001B[39mpath\u001B[38;5;241m.\u001B[39mjoin(home, \u001B[38;5;124m'\u001B[39m\u001B[38;5;124m.keys\u001B[39m\u001B[38;5;124m'\u001B[39m, \u001B[38;5;124m'\u001B[39m\u001B[38;5;124mgoogle_map_api.key\u001B[39m\u001B[38;5;124m'\u001B[39m)\n\u001B[0;32m---> 13\u001B[0m \u001B[38;5;28;01mwith\u001B[39;00m \u001B[38;5;28;43mopen\u001B[39;49m\u001B[43m(\u001B[49m\u001B[43mkey_path\u001B[49m\u001B[43m,\u001B[49m\u001B[43m \u001B[49m\u001B[38;5;124;43m'\u001B[39;49m\u001B[38;5;124;43mr\u001B[39;49m\u001B[38;5;124;43m'\u001B[39;49m\u001B[43m,\u001B[49m\u001B[43m \u001B[49m\u001B[43mencoding\u001B[49m\u001B[38;5;241;43m=\u001B[39;49m\u001B[38;5;124;43m'\u001B[39;49m\u001B[38;5;124;43mutf-8\u001B[39;49m\u001B[38;5;124;43m'\u001B[39;49m\u001B[43m)\u001B[49m \u001B[38;5;28;01mas\u001B[39;00m f:\n\u001B[1;32m     14\u001B[0m     key \u001B[38;5;241m=\u001B[39m f\u001B[38;5;241m.\u001B[39mread()\n\u001B[1;32m     15\u001B[0m \u001B[38;5;28;01mreturn\u001B[39;00m key\n",
      "\u001B[0;31mFileNotFoundError\u001B[0m: [Errno 2] No such file or directory: '/Users/iccie/.keys/google_map_api.key'"
     ]
    }
   ],
   "source": [
    "from src.api import geo_admin_lookup\n",
    "\n",
    "pos = (15.0979, 145.6739)\n",
    "geo_admin_lookup.get_response(*pos)"
   ],
   "metadata": {
    "collapsed": false,
    "ExecuteTime": {
     "end_time": "2023-10-03T19:48:07.324610Z",
     "start_time": "2023-10-03T19:48:07.191163Z"
    }
   },
   "id": "378e4fcd30d0ae38"
  },
  {
   "cell_type": "code",
   "execution_count": null,
   "outputs": [],
   "source": [],
   "metadata": {
    "collapsed": false,
    "ExecuteTime": {
     "end_time": "2023-10-03T19:48:07.327157Z",
     "start_time": "2023-10-03T19:48:07.325379Z"
    }
   },
   "id": "450801d8e8844e56"
  }
 ],
 "metadata": {
  "kernelspec": {
   "display_name": "Python 3",
   "language": "python",
   "name": "python3"
  },
  "language_info": {
   "codemirror_mode": {
    "name": "ipython",
    "version": 2
   },
   "file_extension": ".py",
   "mimetype": "text/x-python",
   "name": "python",
   "nbconvert_exporter": "python",
   "pygments_lexer": "ipython2",
   "version": "2.7.6"
  }
 },
 "nbformat": 4,
 "nbformat_minor": 5
}
